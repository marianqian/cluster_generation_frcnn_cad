{
 "cells": [
  {
   "cell_type": "markdown",
   "metadata": {},
   "source": [
    "# Microcalcification cluster creation\n",
    "This notebook contains the functions used to create microcalcification, microcalcification clusters, placement of clusters in breast phantom, and preprocessing of Monte-Carlo GPU simulations.\n",
    "\n",
    "To convert any calcification or cluster into a raw file, use: \n",
    "\n",
    "`cluster_type.tofile('cluster.raw')`"
   ]
  },
  {
   "cell_type": "code",
   "execution_count": 1,
   "metadata": {},
   "outputs": [],
   "source": [
    "import numpy as np\n",
    "import random as rand\n",
    "import math\n",
    "import pathlib\n",
    "#!pip install raster_geometry\n",
    "from raster_geometry import * #For creating spherical calcifications\n",
    "#!pip install bresenham\n",
    "from bresenham import bresenham #For creating linear clusters\n",
    "from calc_cluster_generation import * #File in this repo"
   ]
  },
  {
   "cell_type": "markdown",
   "metadata": {},
   "source": [
    "## Creating individual calcifications repalce with importing the python file\n",
    "### Spherical calcifications\n",
    "Example clusters are placed in folder `/calc_cluster_examples`."
   ]
  },
  {
   "cell_type": "code",
   "execution_count": 6,
   "metadata": {},
   "outputs": [],
   "source": [
    "calc_size = 9\n",
    "num_rmv = 10\n",
    "calc = create_calc(calc_size, num_rmv)\n",
    "calc = calc.astype('uint8')\n",
    "calc.tofile('./calc_cluster_examples/calc{0}x{0}_rmv{1}.raw'.format(calc_size, num_rmv))"
   ]
  },
  {
   "cell_type": "markdown",
   "metadata": {},
   "source": [
    "### Rod-like calcifications"
   ]
  },
  {
   "cell_type": "code",
   "execution_count": 7,
   "metadata": {
    "scrolled": true
   },
   "outputs": [],
   "source": [
    "rod_size = 7\n",
    "rod_num_rmv = 7**2\n",
    "rod = create_calc_rod(rod_size, rod_num_rmv)\n",
    "calc_type = rod.astype('uint8')\n",
    "calc_type.tofile('./calc_cluster_examples/calc_rod{0}x{0}_rmv{1}.raw'.format(rod_size, rod_num_rmv))"
   ]
  },
  {
   "cell_type": "markdown",
   "metadata": {},
   "source": [
    "## Creating microcalcification clusters\n",
    "### Random clusters"
   ]
  },
  {
   "cell_type": "code",
   "execution_count": 8,
   "metadata": {},
   "outputs": [],
   "source": [
    "cluster_size = 142\n",
    "num_calcs = 20\n",
    "#Default min_calc_size = 3, max_calc_size = 9\n",
    "cluster = create_cluster(cluster_size, num_calcs)\n",
    "cluster.tofile('./calc_cluster_examples/cluster{0}x{0}_nm{1}.raw'.format(cluster_size, num_calcs))"
   ]
  },
  {
   "cell_type": "markdown",
   "metadata": {},
   "source": [
    "### Random non-uniform clusters"
   ]
  },
  {
   "cell_type": "code",
   "execution_count": 9,
   "metadata": {},
   "outputs": [],
   "source": [
    "nonuniform_cluster_size = 142\n",
    "nonuniform_num_calcs = 20\n",
    "#Default min_calc_size = 3, max_calc_size = 9\n",
    "#Default weights = [0.2, 0.2, 0.2, 0.2, 0.03, 0.03, 0.03], where the larger sizes, 7-9 voxels, have a probability of 10%. \n",
    "nonuniform_cluster = create_cluster_nonuniform(cluster_size, num_calcs)\n",
    "nonuniform_cluster.tofile('./calc_cluster_examples/cluster_nonuniform{0}x{0}_nm{1}.raw'.format(cluster_size, num_calcs))"
   ]
  },
  {
   "cell_type": "markdown",
   "metadata": {},
   "source": [
    "### Linear clusters"
   ]
  },
  {
   "cell_type": "code",
   "execution_count": 10,
   "metadata": {},
   "outputs": [],
   "source": [
    "linear_cluster_size = 142\n",
    "linear_num_calcs = 20\n",
    "linear_cluster = create_cluster_linear(linear_cluster_size, linear_num_calcs, min_calc_size = 3, max_calc_size = 9, \n",
    "                                                               num_away_min = 15, num_away_max = 30)\n",
    "linear_cluster.tofile('./calc_cluster_examples/cluster_linear{0}x{0}_nm{1}_{2}_m.raw'.format(linear_cluster_size, linear_num_calcs, '(15,30)'))"
   ]
  },
  {
   "cell_type": "markdown",
   "metadata": {},
   "source": [
    "### Clusters with rod-calcs with vertical and no smoothing"
   ]
  },
  {
   "cell_type": "code",
   "execution_count": 11,
   "metadata": {},
   "outputs": [],
   "source": [
    "rod_cluster_size = 142\n",
    "rod_num_calcs = 20\n",
    "create_cluster_rod(rod_cluster_size, rod_num_calcs).tofile('./calc_cluster_examples/cluster_rod{0}x{0}_nm{1}.raw'.format(rod_cluster_size, \n",
    "                                                                                                            rod_num_calcs))"
   ]
  },
  {
   "cell_type": "markdown",
   "metadata": {},
   "source": [
    "### Clusters with rod-like and spherical calcs "
   ]
  },
  {
   "cell_type": "code",
   "execution_count": 12,
   "metadata": {},
   "outputs": [],
   "source": [
    "both_cluster_size = 142\n",
    "both_num_calcs = 20\n",
    "create_cluster_rod_sphere(both_cluster_size, both_num_calcs).tofile('cluster_red_sphere{0}x{0}_nm{1}.raw'.format(both_cluster_size,\n",
    "                                                                                                             both_num_calcs))"
   ]
  },
  {
   "cell_type": "markdown",
   "metadata": {},
   "source": [
    "# Placing calcifications inside breast phantom\n",
    "## Placing 5 (71 vx), 10 (142 vx), and 20 (285 vx) mm sizes cluster\n",
    "Specification for MC-GPU: 1 vx^3 = 70 micromm.\n",
    "Breast phantom size is 1680 x 2159 x 601 voxels. Each phantom will have 12 clusters with 3 rows by 4 columns. The example here places spherical calcifications in random clusters.\n",
    "\n",
    "Zipped examples of 5, 10, and 20 mm clusters with 40 calcs (randomly placed and spherical) in phantoms are in the folder `/phantom`.\n",
    "\n",
    "**Note**: For placing 20 mm (285 vx) sized clusters side by side, horizontal space between each cluster should be 450 voxels instead of 350. Specifically for 20 mm sized clusters, I placed 9 clusters in each phantom instead of 12 for 3 rows x 3 cols where all of them were 20 mm and changed the horizontal space to be 450 voxels. See code below for example of placing only 20 mm clusters.\n",
    "\n",
    "```python\n",
    "#Number of rows of clusters.\n",
    "for ii in range(3): \n",
    "\n",
    "    #Beginning x-coordinate for the first cluster on each row. \n",
    "    change_x=x_cent-600 \n",
    "\n",
    "    #Number of clusters in each row. \n",
    "    for iii in range(3): \n",
    "\n",
    "        #Creating cluster (can change which type by changing the function).\n",
    "        cluster = create_cluster(cluster_size, num_calcs, min_calc_size=3, max_calc_size=9)\n",
    "        for i in range(cluster_size):\n",
    "            for x in range(cluster_size):\n",
    "                for y in range(cluster_size):\n",
    "                    if cluster[i,x,y] == 1:\n",
    "                        bb[start_i+i, change_x+x, start_y+y]=250\n",
    "\n",
    "        #For placing 20 mm (285 vx) sized clusters side by side, \n",
    "        #horizontal space between each cluster should be 450 voxels instead of 350.\n",
    "        change_x=change_x+450\n",
    "\n",
    "    #Vertical space between each cluster is 400 voxels.\n",
    "    start_y = start_y+400\n",
    "```"
   ]
  },
  {
   "cell_type": "code",
   "execution_count": 13,
   "metadata": {
    "collapsed": true
   },
   "outputs": [
    {
     "ename": "FileNotFoundError",
     "evalue": "[Errno 2] No such file or directory: '/phantom/pce_1764975963_crop.raw'",
     "output_type": "error",
     "traceback": [
      "\u001b[0;31m---------------------------------------------------------------------------\u001b[0m",
      "\u001b[0;31mFileNotFoundError\u001b[0m                         Traceback (most recent call last)",
      "\u001b[0;32m<ipython-input-13-096f2186311d>\u001b[0m in \u001b[0;36m<module>\u001b[0;34m\u001b[0m\n\u001b[1;32m     28\u001b[0m \u001b[0;34m\u001b[0m\u001b[0m\n\u001b[1;32m     29\u001b[0m     \u001b[0;31m#Loading in breast phantom.\u001b[0m\u001b[0;34m\u001b[0m\u001b[0;34m\u001b[0m\u001b[0;34m\u001b[0m\u001b[0m\n\u001b[0;32m---> 30\u001b[0;31m     \u001b[0mbb\u001b[0m \u001b[0;34m=\u001b[0m \u001b[0mnp\u001b[0m\u001b[0;34m.\u001b[0m\u001b[0mfromfile\u001b[0m\u001b[0;34m(\u001b[0m\u001b[0mpath\u001b[0m\u001b[0;34m,\u001b[0m \u001b[0mdtype\u001b[0m\u001b[0;34m=\u001b[0m\u001b[0;34m'uint8'\u001b[0m\u001b[0;34m)\u001b[0m\u001b[0;34m\u001b[0m\u001b[0;34m\u001b[0m\u001b[0m\n\u001b[0m\u001b[1;32m     31\u001b[0m     \u001b[0mbb\u001b[0m\u001b[0;34m=\u001b[0m\u001b[0mbb\u001b[0m\u001b[0;34m.\u001b[0m\u001b[0mreshape\u001b[0m\u001b[0;34m(\u001b[0m\u001b[0;36m601\u001b[0m\u001b[0;34m,\u001b[0m \u001b[0;36m2159\u001b[0m\u001b[0;34m,\u001b[0m \u001b[0;36m1680\u001b[0m\u001b[0;34m)\u001b[0m\u001b[0;34m\u001b[0m\u001b[0;34m\u001b[0m\u001b[0m\n\u001b[1;32m     32\u001b[0m \u001b[0;34m\u001b[0m\u001b[0m\n",
      "\u001b[0;31mFileNotFoundError\u001b[0m: [Errno 2] No such file or directory: '/phantom/pce_1764975963_crop.raw'"
     ]
    }
   ],
   "source": [
    "#Center of breast phantom.\n",
    "x_cent=2159//2\n",
    "y_cent=1680//2\n",
    "i_cent=601//2\n",
    "\n",
    "phantom_name=\"cluster_phantom_{0}_{1}nm.raw\"\n",
    "\n",
    "#Unzip Graff breast phantom.\n",
    "#Path to breast phantom.\n",
    "path = '/phantom/pce_1764975963_crop.raw'\n",
    "\n",
    "#List of parameters for the clusters placed in each phantom.\n",
    "#Each tuple corresponds to one phantom. \n",
    "#This list will have 10 mm (142 vx) and 5 mm (71 vx) clusters with 40 calcs in each. \n",
    "parameters_list = [(142, 40), (71, 40)]\n",
    "\n",
    "for i in range(len(parameters_list)): \n",
    "   \n",
    "    #Variables for the cluster size and number of calcs.\n",
    "    parameters = parameters_list[i]\n",
    "    cluster_size = parameters[0]\n",
    "    num_calcs = parameters[1]\n",
    "    \n",
    "    #The first slice we begin inserting the cluster. \n",
    "    #Start at the middle slice - half of the size of the cluster, so center slice of cluster will be at \n",
    "    #same as center slice for the breast phantom.\n",
    "    start_i = i_cent-cluster_size//2 \n",
    "    \n",
    "    #Loading in breast phantom. \n",
    "    bb = np.fromfile(path, dtype='uint8')\n",
    "    bb=bb.reshape(601, 2159, 1680)\n",
    "    \n",
    "    #Beginning y-coordinate for the first cluster. \n",
    "    start_y=y_cent - 700 \n",
    "    \n",
    "    #Number of rows of clusters.\n",
    "    for ii in range(3): \n",
    "        \n",
    "        #Beginning x-coordinate for the first cluster on each row. \n",
    "        change_x=x_cent-600 \n",
    "        \n",
    "        #Number of clusters in each row. \n",
    "        for iii in range(4): \n",
    "            \n",
    "            #Creating cluster (can change which type by changing the function).\n",
    "            cluster = create_cluster(cluster_size, num_calcs, min_calc_size=3, max_calc_size=9)\n",
    "            for i in range(cluster_size):\n",
    "                for x in range(cluster_size):\n",
    "                    for y in range(cluster_size):\n",
    "                        if cluster[i,x,y] == 1:\n",
    "                            bb[start_i+i, change_x+x, start_y+y]=250\n",
    "                            \n",
    "            #Horizontal space between each cluster is 350 voxels.\n",
    "            #For placing 20 mm (285 vx) sized clusters side by side, \n",
    "            #horizontal space between each cluster should be 450 voxels instead of 350.\n",
    "            change_x=change_x+350\n",
    "            \n",
    "        #Vertical space between each cluster is 400 voxels.\n",
    "        start_y = start_y+400\n",
    "    bb.tofile('./phantom/'+phantom_name.format(cluster_size, num_calcs))\n",
    "    print(phantom_name.format(cluster_size, num_calcs))"
   ]
  },
  {
   "cell_type": "markdown",
   "metadata": {},
   "source": [
    "# Pre-processing after MC-GPU\n",
    "After running MC-GPU on the breast phantoms, the preprocess file contains the functions for processing the .RAW MC-GPU output files and places them inside `/post_images` folder. MC-GPU outputs of the examples of breast phantoms created above are in the `/mcgpu_output` folder, and post-processing images for those examples are also located in the `/post_images` folder.\n",
    "\n",
    "Processing code was modified from code written by Dr. Kenny Cha."
   ]
  },
  {
   "cell_type": "code",
   "execution_count": 1,
   "metadata": {},
   "outputs": [],
   "source": [
    "from preprocessing import * #File in this repo "
   ]
  },
  {
   "cell_type": "markdown",
   "metadata": {},
   "source": [
    "For processing all images in folder `/mcgpu_output` images at once."
   ]
  },
  {
   "cell_type": "code",
   "execution_count": 2,
   "metadata": {},
   "outputs": [
    {
     "name": "stdout",
     "output_type": "stream",
     "text": [
      "mcgpu_output/prj_30mm_2_cluster_phantom_285_40nm_m.raw.gz.raw\n",
      "prj_30mm_2_cluster_phantom_285_40nm_m{}.raw.gz.raw\n",
      "mcgpu_output/prj_30mm_2_cluster_phantom_71_40nm_m.raw.gz.raw\n",
      "prj_30mm_2_cluster_phantom_71_40nm_m{}.raw.gz.raw\n",
      "mcgpu_output/prj_30mm_2_cluster_phantom_142_40nm.raw.gz.raw\n",
      "prj_30mm_2_cluster_phantom_142_40nm{}.raw.gz.raw\n"
     ]
    }
   ],
   "source": [
    "path = pathlib.Path('./mcgpu_output/')\n",
    "for currentFile in path.iterdir():\n",
    "    if currentFile.suffix == '.raw':\n",
    "        print(currentFile)\n",
    "        \n",
    "        #Uses default values of the function preprocess.\n",
    "        test = preprocess(currentFile, other=400000, lower=25, upper=100)\n",
    "        \n",
    "        #Inserts brackets after file extensions. Ex. prj_30mm_2_cluster_malignant_only_142_10nm_s{}.raw.gz.raw\n",
    "        #Bracket will be replaced with string value in write_out function that includes more information. \n",
    "        img_name = currentFile.name[:-11] + '{}' + currentFile.name[-11:]\n",
    "        \n",
    "        #Choosing to use the values greater than 0.7 and keeping the 25th to 100th percentile.\n",
    "        write_out(test, img_name, path='./post_images/', add='_full_0.7_25')\n",
    "        print(img_name)"
   ]
  }
 ],
 "metadata": {
  "kernelspec": {
   "display_name": "Python 3",
   "language": "python",
   "name": "python3"
  },
  "language_info": {
   "codemirror_mode": {
    "name": "ipython",
    "version": 3
   },
   "file_extension": ".py",
   "mimetype": "text/x-python",
   "name": "python",
   "nbconvert_exporter": "python",
   "pygments_lexer": "ipython3",
   "version": "3.8.3"
  }
 },
 "nbformat": 4,
 "nbformat_minor": 4
}
